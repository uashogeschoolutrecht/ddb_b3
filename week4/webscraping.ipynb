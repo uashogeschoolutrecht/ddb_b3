{
 "cells": [
  {
   "cell_type": "markdown",
   "metadata": {},
   "source": [
    "# Scraping twitter"
   ]
  },
  {
   "cell_type": "markdown",
   "metadata": {},
   "source": [
    "In dit notebook gaan we zien hoe je met behulp van Python twitter kunt scrapen. Hiervoor heb je een developersaccount nodig op twitter, volg daarvoor onderstaande instructies:\n",
    "\n",
    "#TODO: checken of stappen tzt nog werken. Extra toelichting toevoegen.\n",
    "1. Ga naar https://developer.twitter.com/en/account/environments\n",
    "2. Klik: Set up dev environment (30-Days / Sandbox)\n",
    "3. Klik: Apply for a developer account\n",
    "4. https://developer.twitter.com/en/apps/\n",
    "5. klik op apps en ga naar keys and tokens\n",
    "\n",
    "Vervolgens gaan we contact maken met de API van twitter. Als het goed is heb je bij Data Exploration al geleerd wat een API is, en nu gaan we zien hoe we met behulp van Python kunnen communiceren met de twitter API. We maken hiervoor gebruik van de library *tweepy*, dit package bevat alle functies die we nodig hebben om met de API te communiceren, die hoeven we gelukkig dus niet zelf te schrijven. Hierdoor kunnen we met een paar regels code de connectie opzetten en tweets binnenhalen.\n",
    "\n",
    "De tweepy documentatie met voorbeelden vind je hier: http://docs.tweepy.org/en/latest/"
   ]
  },
  {
   "cell_type": "markdown",
   "metadata": {},
   "source": [
    "Eerst importeren we de libraries die we gebruiken. Waarschijnlijk zul je deze eerst moeten installeren. Hiervoor klik je op het plusje linksboven, kies terminal en type *pip install tweepy*"
   ]
  },
  {
   "cell_type": "code",
   "execution_count": null,
   "metadata": {},
   "outputs": [],
   "source": [
    "import tweepy\n",
    "import json"
   ]
  },
  {
   "cell_type": "markdown",
   "metadata": {},
   "source": [
    "Vul hier je access tokens in:"
   ]
  },
  {
   "cell_type": "code",
   "execution_count": null,
   "metadata": {},
   "outputs": [],
   "source": [
    "consumer_key = \"paste consumer key here\"\n",
    "consumer_secret = \"paste consumer secret here\"\n",
    "access_token_key = \"paste access token key here\"\n",
    "access_token_secret = \"paste access token secret here\""
   ]
  },
  {
   "cell_type": "markdown",
   "metadata": {},
   "source": [
    "Onderstaande code zet te connectie met de API op."
   ]
  },
  {
   "cell_type": "code",
   "execution_count": null,
   "metadata": {},
   "outputs": [],
   "source": [
    "auth = tweepy.OAuthHandler(consumer_key, consumer_secret)\n",
    "auth.set_access_token(access_token_key, access_token_secret)\n",
    "api = tweepy.API(auth)"
   ]
  },
  {
   "cell_type": "markdown",
   "metadata": {},
   "source": [
    "Met behulp van de documentatie van tweepy kunnen we er nu achter komen welke *methods* we aan kunnen roepen op *api*, zie daarvoor: http://docs.tweepy.org/en/latest/api.html#tweepy-api-twitter-api-wrapper\n",
    "\n",
    "In dit voorbeeld gaan we gebruik maken van het *search* endpoint. In de twitter documentatie kunnen we dan weer vinden welke parameters we daaraan mee kunnen geven:\n",
    "https://developer.twitter.com/en/docs/tweets/search/api-reference/get-search-tweets"
   ]
  },
  {
   "cell_type": "markdown",
   "metadata": {},
   "source": [
    "#TODO voorbeeld uitwerken/toelichten."
   ]
  },
  {
   "cell_type": "code",
   "execution_count": null,
   "metadata": {},
   "outputs": [],
   "source": [
    "HU_tweets = api.search(q=\"#hu -filter:retweets\", lang=\"nl\", count=2)\n",
    "tweets_json = [tweet._json for tweet in tweets]"
   ]
  },
  {
   "cell_type": "code",
   "execution_count": null,
   "metadata": {},
   "outputs": [],
   "source": [
    "print(tweets_json)"
   ]
  },
  {
   "cell_type": "code",
   "execution_count": null,
   "metadata": {},
   "outputs": [],
   "source": [
    "for tweet in tweets_json:\n",
    "    print(tweet['created_at'])\n",
    "    print(tweet['full_text'])\n",
    "    print('---------')"
   ]
  },
  {
   "cell_type": "code",
   "execution_count": null,
   "metadata": {},
   "outputs": [],
   "source": [
    "my_tweets = open('my_tweets.csv', 'w', newline='')\n",
    "\n",
    "outputWriter = csv.writer(my_tweets)\n",
    "outputWriter.writerow(['created_at', 'full_text', 'user_name', 'word_count', 'hashtags'])\n",
    "\n",
    "def get_hashtags_from_tweet(tweet):\n",
    "    text = tweet['full_text']\n",
    "    words = text.split()\n",
    "    hashtags = [word for word in words if word.startswith('#')]\n",
    "    return(';'.join(hashtags))\n",
    "\n",
    "def get_word_count(tweet):\n",
    "    text = tweet['full_text']\n",
    "    word_count = len(text.split(' '))\n",
    "    return(word_count)\n",
    "    \n",
    "for tweet in tweets:\n",
    "    created_at = tweet['created_at']\n",
    "    full_text = tweet['full_text']\n",
    "    user_name = tweet['user']['screen_name']\n",
    "    word_count = get_word_count(tweet)\n",
    "    hashtags = get_hashtags_from_tweet(tweet)\n",
    "    outputWriter.writerow([created_at, full_text, user_name, word_count, hashtags])"
   ]
  },
  {
   "cell_type": "markdown",
   "metadata": {},
   "source": [
    "## Opdracht\n",
    "Doe een kleine analyse op tweets. Hiervoor bedenk je zelf een vraag, je haalt de benodigde tweets binnen en je schrijft een stukje code om de tweets te analyseren om zo jouw vraag te beantwoorden. Je kunt het voorbeeld volgen om een csv bestand te maken met interessante data uit de tweets. Je kunt dit zo groot of zo klein maken als je zelf wilt. Kijk naar de tweepy documentatie voor voorbeelden. Misschien kun je ook andere endpoints gebruiken dan het *search* endpoint. \n",
    "\n",
    "Voorbeelden van mogelijke analyse: \n",
    "* Vergelijk het aantal woorden in jouw tweets met die van een mede-student. \n",
    "* Vergelijk de tweets van Trump en Biden. Wie twittert het meest? Wat zijn de meest voorkomende woorden in hun tweets?"
   ]
  }
 ],
 "metadata": {
  "kernelspec": {
   "display_name": "ddb_B3",
   "language": "python",
   "name": "ddb_b3"
  },
  "language_info": {
   "codemirror_mode": {
    "name": "ipython",
    "version": 3
   },
   "file_extension": ".py",
   "mimetype": "text/x-python",
   "name": "python",
   "nbconvert_exporter": "python",
   "pygments_lexer": "ipython3",
   "version": "3.7.7"
  }
 },
 "nbformat": 4,
 "nbformat_minor": 4
}
