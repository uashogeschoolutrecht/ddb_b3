{
 "cells": [
  {
   "cell_type": "markdown",
   "metadata": {},
   "source": [
    "# Scraping twitter"
   ]
  },
  {
   "cell_type": "markdown",
   "metadata": {},
   "source": [
    "In dit notebook gaan we zien hoe je met behulp van Python twitter kunt scrapen. Hiervoor heb je een developeraccount nodig op twitter, volg daarvoor de instructies die te vinden zijn op canvas: \n",
    "https://canvas.hu.nl/courses/17142/pages/week-4\n",
    "\n",
    "Vervolgens gaan we contact maken met de API van twitter. Als het goed is heb je bij Data Exploration al geleerd wat een API is, en nu gaan we zien hoe we met behulp van Python kunnen communiceren met de twitter API. We maken hiervoor gebruik van de library *tweepy*, dit package bevat alle functies die we nodig hebben om met de API te communiceren, die hoeven we gelukkig dus niet zelf te schrijven. Hierdoor kunnen we met een paar regels code de connectie opzetten en tweets binnenhalen.\n",
    "\n",
    "De tweepy documentatie met voorbeelden vind je hier: http://docs.tweepy.org/en/latest/"
   ]
  },
  {
   "cell_type": "markdown",
   "metadata": {},
   "source": [
    "Eerst importeren we de libraries die we gebruiken. Waarschijnlijk zul je deze eerst moeten installeren. Daar zijn twee manieren voor (2e is makkelijkst): \n",
    "Optie 1. Ga terug naar het overzicht van bestanden, klik op 'new' rechtsboven en kies 'terminal' en type daar *pip install tweepy --user*\n",
    "Optie 2. vul *! pip install tweepy --user* in in een cell in dit notebook, en draai deze cel. Na succesvol installeren kan je deze cel weghalen.\n",
    "\n",
    "Als je één van deze opties hebt gekozen, heb je deze package voortaan in deze omgeving. Let op: vaak moet je even de 'kernel' herstarten (zie knop hierboven). Je moet packages per notebook wel steeds importeren."
   ]
  },
  {
   "cell_type": "code",
   "execution_count": 1,
   "metadata": {},
   "outputs": [],
   "source": [
    "import tweepy\n",
    "import json\n",
    "import csv"
   ]
  },
  {
   "cell_type": "markdown",
   "metadata": {},
   "source": [
    "Vul hier je access tokens in (met aanhalingstekens!):"
   ]
  },
  {
   "cell_type": "code",
   "execution_count": 2,
   "metadata": {},
   "outputs": [],
   "source": [
    "consumer_key = \"Vul API key\"\n",
    "consumer_secret = \"Vul API secret key in\"\n",
    "access_token_key = \"Vul access key in\"\n",
    "access_token_secret = \"Vul access secret key in\""
   ]
  },
  {
   "cell_type": "markdown",
   "metadata": {},
   "source": [
    "Onderstaande code zet te connectie met de API op."
   ]
  },
  {
   "cell_type": "code",
   "execution_count": null,
   "metadata": {},
   "outputs": [],
   "source": [
    "auth = tweepy.OAuthHandler(consumer_key, consumer_secret)\n",
    "auth.set_access_token(access_token_key, access_token_secret)\n",
    "api = tweepy.API(auth)"
   ]
  },
  {
   "cell_type": "markdown",
   "metadata": {},
   "source": [
    "Met behulp van de documentatie van tweepy kunnen we er nu achter komen welke *methods* we aan kunnen roepen op *api*, zie daarvoor: http://docs.tweepy.org/en/latest/api.html#tweepy-api-twitter-api-wrapper\n",
    "\n",
    "In dit voorbeeld gaan we gebruik maken van het *search* endpoint. In de twitter documentatie kunnen we dan weer vinden welke parameters we daaraan mee kunnen geven:\n",
    "https://developer.twitter.com/en/docs/tweets/search/api-reference/get-search-tweets"
   ]
  },
  {
   "cell_type": "code",
   "execution_count": null,
   "metadata": {},
   "outputs": [],
   "source": [
    "# Hier bijvoorbeeld hebben de met de parameters ingesteld:\n",
    "#  q=\"#hu-filter:retweets\" : Haal Tweets op met \"#hu\", en laat retweets weg\n",
    "#  lang=\"nl\"               : Enkel Nederlandse\n",
    "#  count=3                 : max drie tweets\n",
    "\n",
    "HU_tweets = api.search(q=\"#hu -filter:retweets\", lang=\"nl\", count=3)"
   ]
  },
  {
   "cell_type": "markdown",
   "metadata": {},
   "source": [
    "HU_tweets zit nu nog verpakt als tweepy-format. Dat pakken we even uit tot het json format. Json wordt zeer veel gebruikt door APIs.Het is simpelweg een manier om data als een string weer te geven. B.v. (Meer info over wat json is: https://www.w3schools.com/js/js_json_intro.asp)\n"
   ]
  },
  {
   "cell_type": "code",
   "execution_count": null,
   "metadata": {},
   "outputs": [],
   "source": [
    "tweets_json = [tweet._json for tweet in HU_tweets]"
   ]
  },
  {
   "cell_type": "markdown",
   "metadata": {},
   "source": [
    "Wat hebben we nu precies opgehaald? In tweets_json zitten nu 3 dingen. Ieder van die drie elementen is een json object. Hieronder pakken we er een uit, wat laat zien dat er veel informatie inzit:"
   ]
  },
  {
   "cell_type": "code",
   "execution_count": null,
   "metadata": {},
   "outputs": [],
   "source": [
    "print('Hoeveel json tweets hebben we? : ' + str(len(tweets_json)) + '\\n')\n",
    "print('Dit zit in een json tweet : \\n \\n' + str(tweets_json[0]))"
   ]
  },
  {
   "cell_type": "markdown",
   "metadata": {},
   "source": [
    "Een json object heeft net als een python dictionary 'keys'. Zoals {\"name\": \"John\", \"age\": \"31\", \"city\": \"New York\"}. Wat voor keys heeft onze tweet json?"
   ]
  },
  {
   "cell_type": "code",
   "execution_count": null,
   "metadata": {},
   "outputs": [],
   "source": [
    "print(tweets_json[0].keys())"
   ]
  },
  {
   "cell_type": "code",
   "execution_count": null,
   "metadata": {},
   "outputs": [],
   "source": [
    "Laten we kijken naar twee interessante soorten informatie in onze tweets, namelijk 'created_at' en 'text':"
   ]
  },
  {
   "cell_type": "code",
   "execution_count": null,
   "metadata": {},
   "outputs": [],
   "source": [
    "# print van iedere tweet's datum en tekst \n",
    "for tweet in tweets_json:\n",
    "    print(tweet['created_at'])\n",
    "    print(tweet['text'])\n",
    "    print(' \\n ------------------------ \\n ')"
   ]
  },
  {
   "cell_type": "markdown",
   "metadata": {},
   "source": [
    "Door bovenstaande code te gebruiken, en b.v. de parameters aan te passen en meer informatie uit de jsons te halen, kan je al erg veel. Hieronder een voorbeeld wat voor functies je bijvoorbeeld zou kunnen gebruiken. Kijk of je functies kan maken voor de  bewerkingen die je op de tweets wil doen. Dit maakt het overzichtelijk en makkelijk herhaalbaar/aanpasbaar."
   ]
  },
  {
   "cell_type": "code",
   "execution_count": null,
   "metadata": {},
   "outputs": [],
   "source": [
    "def get_hashtags_from_tweet(tweet):\n",
    "    text = tweet['full_text']\n",
    "    words = text.split()\n",
    "    hashtags = [word for word in words if word.startswith('#')]\n",
    "    return(';'.join(hashtags))\n",
    "\n",
    "def get_word_count(tweet):\n",
    "    text = tweet['full_text']\n",
    "    word_count = len(text.split(' '))\n",
    "    return(word_count)\n",
    "    "
   ]
  },
  {
   "cell_type": "markdown",
   "metadata": {},
   "source": [
    "Hier een voorbeeld van hoe je met python een CSV-bestand aan zou kunnen maken, om je tweets in weg te schrijven. Let op: dit moet je nog aanpassen om werkend te krijgen."
   ]
  },
  {
   "cell_type": "code",
   "execution_count": null,
   "metadata": {},
   "outputs": [],
   "source": [
    "my_tweets = open('my_tweets.csv', 'w', newline='')\n",
    "\n",
    "outputWriter = csv.writer(my_tweets)\n",
    "outputWriter.writerow(['created_at', 'full_text', 'user_name', 'word_count', 'hashtags'])    \n",
    "    \n",
    "for tweet in tweets:\n",
    "    created_at = tweet['created_at']\n",
    "    full_text = tweet['text']\n",
    "    user_name = tweet['user']['screen_name']\n",
    "    word_count = get_word_count(tweet)\n",
    "    hashtags = get_hashtags_from_tweet(tweet)\n",
    "    outputWriter.writerow([created_at, full_text, user_name, word_count, hashtags])"
   ]
  },
  {
   "cell_type": "markdown",
   "metadata": {},
   "source": [
    "## Opdracht\n",
    "Doe een kleine analyse op tweets. Hiervoor bedenk je zelf een vraag, je haalt de benodigde tweets binnen en je schrijft een stukje code om de tweets te analyseren om zo jouw vraag te beantwoorden. Je kunt het voorbeeld volgen om een csv bestand te maken met interessante data uit de tweets. Je kunt dit zo groot of zo klein maken als je zelf wilt. Kijk naar de tweepy documentatie voor voorbeelden. Misschien kun je ook andere endpoints gebruiken dan het *search* endpoint. \n",
    "\n",
    "Voorbeelden van mogelijke analyse: \n",
    "* Vergelijk het aantal woorden in jouw tweets met die van een mede-student. \n",
    "* Haal de tweets van Trump binnen. Is hij meer of minder gaan tweeten na de verkiezingen? Zijn zijn tweets gemiddeld langer of korter geworden? "
   ]
  },
  {
   "cell_type": "code",
   "execution_count": null,
   "metadata": {},
   "outputs": [],
   "source": []
  }
 ],
 "metadata": {
  "kernelspec": {
   "display_name": "Python 3",
   "language": "python",
   "name": "python3"
  },
  "language_info": {
   "codemirror_mode": {
    "name": "ipython",
    "version": 3
   },
   "file_extension": ".py",
   "mimetype": "text/x-python",
   "name": "python",
   "nbconvert_exporter": "python",
   "pygments_lexer": "ipython3",
   "version": "3.7.3"
  }
 },
 "nbformat": 4,
 "nbformat_minor": 4
}
