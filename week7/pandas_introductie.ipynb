{
 "cells": [
  {
   "cell_type": "markdown",
   "metadata": {},
   "source": [
    "# Introductie pandas\n",
    "We gaan nu leren werken met pandas, een van de meest gebruikte Pyhton libraries voor data analyse en data science. Deze library voorziet ons van allerlei functionaliteit om te werken met spreadsheets. Als een data scientist ontkom je er niet aan om met pandas te werken. Dit is zo'n uitgebreide library dat we nooit alles kunnen behandelen, maar om een beeld te krijgen van wat mogelijk is in pandas volgen we de 'getting started' tutorials uit de pandas documentatie (https://pandas.pydata.org/docs/getting_started/intro_tutorials/index.html). In dit notebook zul je steeds gevraagd worden een tutorial door te nemen en vervolgens een aantal oefenopdrachten te maken. De datasets die in de tutorials gebruikt worden zijn te vinden in de Shared folder. Ik raad je aan om de voorbeelden uit de tutorials zelf uit te typen en te runnen.\n",
    "\n",
    "Voor de opdrachten bij tutorial 2 t/m 5 en 7 gebruiken we de dataset vgsales.csv, gevonden op kaggle (https://www.kaggle.com/gregorut/videogamesales). Voor opdracht 6 gebruiken we de dataset ..... Ook deze zijn te vinden in de Shared folder. Je moet ze wel zelf nog inlezen.\n"
   ]
  },
  {
   "cell_type": "markdown",
   "metadata": {},
   "source": [
    "## Opdrachten bij tutorial 1\n",
    "Creeër een DataFrame (met behulp van pd.DataFrame(...) ) waarbij het dataframe overeenkomt met onderstaande tabel\n",
    "\n",
    "Let op dat je pandas eerst moet importeren voordat je aan de slag kunt. "
   ]
  },
  {
   "cell_type": "markdown",
   "metadata": {},
   "source": [
    "| Studentnummer |Opdracht | Tentamen | Geslaagd |\n",
    "| ------------- |-------- | -------- | -------- |\n",
    "| 302341 | 5,5 | 6,1 | Ja |\n",
    "| 314345 | 6,2 | 4,2 | Nee |\n",
    "| 374232 | 7,1 | 8,3 | Ja |\n",
    "| 352352 | 9,3 | 7,8 | Ja |"
   ]
  },
  {
   "cell_type": "markdown",
   "metadata": {},
   "source": [
    "## Tutorial 2 - Lezen en schrijven van datasets\n",
    "Volg deze tutorial: https://pandas.pydata.org/docs/getting_started/intro_tutorials/02_read_write.html\n",
    "\n",
    "Naast het lezen en schrijven van csv en excel files biedt pandas de mogelijkheid om andere datatypes snel in te lezen, bijvoorbeeld json. Om makkelijk een overzicht te krijgen van mogelijke *read* functices, maak je een nieuwe cel en type je pd.read_<TAB>, waarbij <TAB> staat voor het indrukken van de tab-toets. Je krijgt dan een lijst met mogelijke opties te zien. Je kunt dit altijd gebruiken om te zien welke functies je aan kunt roepen, of als je niet meer precies weet hoe een functie heet. Of als je gewoon te lui bent om alles uit te typen:) Niks mis mee trouwens, je programmeert er alleen maar sneller door! \n",
    "\n",
    "Als je wilt weten welke parameters je mee kunt geven aan een functie, bijvoorbeel aan pd.read_csv(..) dan type je ?pd.read_csv in een nieuwe cel en run je deze. Je kunt deze informatie ook allemaal in de documentatie vinden: https://pandas.pydata.org/pandas-docs/stable/user_guide/io.html\n",
    "    \n",
    "De dataset die hier gebruikt wordt kun je vinden in de Shared folder. Ik raad je aan deze in te lezen zodat je zelf de code uit de tutorial kunt overnemen en uitvoeren. "
   ]
  },
  {
   "cell_type": "markdown",
   "metadata": {},
   "source": [
    "### Opdrachten bij tutorial 2\n",
    "De dataset vgsales heeft de volgende kolommen:\n",
    "\n",
    "* Rank - Ranking of overall sales\n",
    "* Name - The games name\n",
    "* Platform - Platform of the games release (i.e. PC,PS4, etc.)\n",
    "* Year - Year of the game's release\n",
    "* Genre - Genre of the game\n",
    "* Publisher - Publisher of the game\n",
    "* NA_Sales - Sales in North America (in millions)\n",
    "* EU_Sales - Sales in Europe (in millions)\n",
    "* JP_Sales - Sales in Japan (in millions)\n",
    "* Other_Sales - Sales in the rest of the world (in millions)\n",
    "* Global_Sales - Total worldwide sales.\n",
    "\n",
    "Voer vervolgens de volgende stappen uit:\n",
    "1. Lees de dataset in.\n",
    "2. Bekijk de eerste 5 rijen.\n",
    "3. Bekijk de laatste 10 rijden.\n",
    "4. Bekijk de datatypes van de kolommen.\n",
    "5. Welke kolommen bevatten nulls? (Een null-waarde betekent dat dat datapunt mist)\n",
    "6. Schrijf de dataset weg als excel bestand naar je eigen home folder."
   ]
  },
  {
   "cell_type": "markdown",
   "metadata": {},
   "source": [
    "## Tutorial 3 - Data selectie\n",
    "Volg deze tutorial: https://pandas.pydata.org/docs/getting_started/intro_tutorials/03_subset_data.html"
   ]
  },
  {
   "cell_type": "markdown",
   "metadata": {},
   "source": [
    "### Opdrachten bij tutorial 3\n",
    "1. Selecteer enkel de kolom \"EU_Sales\" uit de dataset vgsales.\n",
    "2. Creeër een nieuw DataFrame met alle rijen waarbij Year niet null is. Maak hierbij gebruik van functie notna()\n",
    "3. Creeër een nieuw DataFrame met alle games waarvan de global sales groter was dan 10 miljoen.\n",
    "4. Bij hoeveel games was de global sales kleiner dan 0.5 miljoen?\n",
    "5. Maak een nieuw DataFrame met de 2e t/m de 6e kolom en de 15e t/m de 30e rij. (Dit heeft in dit voorbeeld geen toepassing, maar is enkel om te oefenen met selectie).\n",
    "6. Creeër een nieuw dataframe met alleen data van 2006.\n",
    "7. Hoeveel spellen van Nintendo zijn er in 2008 uitgekomen in het Genre Racing?"
   ]
  },
  {
   "cell_type": "markdown",
   "metadata": {},
   "source": [
    "## Tutorial 4 - Nieuwe kolommen toevoegen\n",
    "Volg deze tutorial: https://pandas.pydata.org/docs/getting_started/intro_tutorials/05_add_columns.html"
   ]
  },
  {
   "cell_type": "markdown",
   "metadata": {},
   "source": [
    "### Opdrachten bij tutorial 4\n",
    "1. Creeër een nieuwe kolom bij de vgsales dataset genaamd Total_Sales. De waarde in deze kolom is de som van NA_Sales, EU_Sales, JP_Sales, Other_Sales. Kun je controleren of de waarden in deze kolom gelijk zijn aan Global_Sales?\n",
    "2. Creeër een dataset vgsales_renamed waarbij de kolomnamen geen hoofdletters meer bevatten."
   ]
  },
  {
   "cell_type": "markdown",
   "metadata": {},
   "source": [
    "## Tutorial 5 - Beschrijvende statistiek\n",
    "Volg deze tutorial: https://pandas.pydata.org/docs/getting_started/intro_tutorials/06_calculate_statistics.html\n",
    "\n",
    "Er zijn twee functies die hier niet genoemd worden maar die je wel moet kunnen toepassen. Dit zijn .sum() (https://pandas.pydata.org/pandas-docs/stable/reference/api/pandas.DataFrame.sum.html) en .sort_values() (https://pandas.pydata.org/pandas-docs/stable/reference/api/pandas.DataFrame.sort_values.html).  Deze kun je bijvoorbeeld gebruiken om het totaal aantal Sales per genre  te bereken op de vgsales dataset. Zie hieronder. "
   ]
  },
  {
   "cell_type": "code",
   "execution_count": null,
   "metadata": {},
   "outputs": [],
   "source": [
    "vgsales = pd.read_csv('../data/vgsales.csv')"
   ]
  },
  {
   "cell_type": "code",
   "execution_count": null,
   "metadata": {},
   "outputs": [],
   "source": [
    "#Bereken totaal van Sales per genre\n",
    "vgsales_total_per_genre = vgsales.groupby(\"Genre\").sum()\n",
    "vgsales.head()"
   ]
  },
  {
   "cell_type": "markdown",
   "metadata": {},
   "source": [
    "Nu willen we deze data graag sorteren op Global_Sales, zodat het bestverkochte genre bovenaan staat. Let op dat sort_values by default oplopend sorteert, als we het bestverkopende genre bovenaan willen hebben moeten we de paramater *ascending=False* meegeven."
   ]
  },
  {
   "cell_type": "code",
   "execution_count": null,
   "metadata": {},
   "outputs": [],
   "source": [
    "vgsales_total_per_genre.sort_values(by=\"Global_Sales\", ascending=False)"
   ]
  },
  {
   "cell_type": "markdown",
   "metadata": {},
   "source": [
    "### Opdrachten bij tutorial 5\n",
    "1. Wat is het gemiddelde van de kolom EU_Sales?\n",
    "2. Hoeveel bracht een spel van \"Electronic Arts\" gemiddeld op in 2010?\n",
    "3. Voor hoeveel miljoen verkocht Nintendo in het jaar 2006 wereldwijd?\n",
    "4. Wat is het bestverkochte spel (in termen van meest opgeleverde miljoenen) ooit? (In deze dataset)\n",
    "5. Welke genre leverde in 2009 het meeste op in Japan?\n",
    "6. Welk spel uit 1985 leverde het minste op in Europa, maar meer dan niks? Wat leverde dit spel wereldwijd op?\n",
    "7. Welke publisher gaf de meeste spellen uit? "
   ]
  },
  {
   "cell_type": "markdown",
   "metadata": {},
   "source": [
    "## Tutorial 6 - Datasets combineren\n",
    "Volg deze tutorial: https://pandas.pydata.org/docs/getting_started/intro_tutorials/08_combine_dataframes.html\n",
    "\n",
    "Vorige week heb je geleerd hoe je dataset moet joinen met SQL-statements. Nu gaan we zien hoe dit in Python moet. De tabellen uit de dvdrental database staan in de data/dvdrental folder als .csv bestand (met als scheidingsteken een \";\"), dus die kun je makkelijk inlezen met pandas. \n",
    "\n",
    "### Opdrachten bij tutorial 6\n",
    "\n",
    "1. Maak een DataFrame waarin we van alle klanten first_name en last_name zien, en het amount van alle betalingen die ze gedaan hebben. Klanten die nooit een betaling hebben gedaan willen we niet zien.\n",
    "2. Voer een join uit om te zien of er films in de inventory zijn die nooit verhuurd zijn. Welke titels horen daarbij?\n",
    "3. Maak een DataFrame als in opdracht 1, maar dan met first_name, last_name en title van alle films die een klant gehuurd heeft, op alfabetische volgorde van last_name. Zorg dat bij klanten met dezelfde achternaam first_name op alfabetische volgorde staat.\n",
    "4. Maak een DataFrame waarin we per klant kunnen zien wat  hij of zij in totaal uitgegeven heeft aan dvd-huur.\n",
    "5. Maak een DataFrame met twee kolommen. Kolom 1 is de titel van alle films uit de film tabel en kolom 2 is het aantal acteurs in die film."
   ]
  },
  {
   "cell_type": "markdown",
   "metadata": {},
   "source": [
    "## Tutorial 7 - Maken van plots\n",
    "Volg deze tutorial: https://pandas.pydata.org/docs/getting_started/intro_tutorials/04_plotting.html\n",
    "\n",
    "Merk op: Als je uitgebreidere visualisaties wilt maken is de plot method van pandas te beperkt. Zoals je ziet wordt in deze tutorial in het laatste voorbeeld al gebruik gemaakt van de library *matplotlib*, (zie https://matplotlib.org/). Ook wordt *seaborn* (https://seaborn.pydata.org/) hiervoor veel gebruikt. Voor interactieve visualisaties kun je bijvoorbeeld *bokeh* (https://bokeh.org/) of *plotly* (https://plotly.com/) gebruiken. Dit gaat te ver voor deze module, maar voel je vrij om een kijkje te nemen!"
   ]
  },
  {
   "cell_type": "markdown",
   "metadata": {},
   "source": [
    "### Opdrachten bij tutorial 7\n",
    "1. Maak een plot met 4 lijnen, behorende bij \"NA_Sales\", \"EU_Sales\", \"JP_Sales\", \"Other_Sales\". Op de x-as staat het jaar en op de y-as de sales in miljoenen. Zorg dat iedere lijn in een aparte subplot staat. Als je rare zigzag-lijnen krijgt komt dit doordat de data nog niet op jaar gesorteerd is. Dit kun je doen door gebruik te maken van de functie sort_values(). (zie: https://pandas.pydata.org/pandas-docs/stable/reference/api/pandas.DataFrame.sort_values.html)\n",
    "Dit is niet per se een goede plot om informatie uit te halen, maar wat wel opvalt is dat dat in één jaar de sales veel hoger zijn dan in alle andere jaren. In welk jaar is dat? (Extra: kun je achterhalen door welk spel dit komt?)\n",
    "2. Maak een scatterplot om te zien wat de samenhang is tussen NA_Sales en EU_Sales in 2008.\n",
    "3. Maak een barplot met op de x-as \"Genre\" en op de y-as de totale sales per genre in 2010. \n",
    "4. Doe hetzelfde als hierboven maar laat voor ieder sales regio een aparte bar zien."
   ]
  },
  {
   "cell_type": "markdown",
   "metadata": {},
   "source": [
    "# Extra: Connectie maken met de database vanuit Pyhton"
   ]
  },
  {
   "cell_type": "markdown",
   "metadata": {},
   "source": [
    "Voor de opdrachten bij tutorial 6 hebben we de tabellen uit de dvdrental database als .csv bestanden opgeslagen op de server. Een meer profesionele manier om aan deze tabellen te komen is door rechtstreeks vanuit Python de database te query-en. Dit kan alleen als de database op een server draait waar wij toegang toe hebben vanuit dit notebook. Dat is nu helaas niet het geval, maar hieronder staat de code die je kunt gebruiken als dit wel het geval was. In de praktijk staat een database vaak op een speciaal daarvoor ingerichte server.\n",
    "\n",
    "We gebruiken de library psycopg2 om de connectie met de database op te zetten. Je kunt deze installeren met pip. Verder gebruiken we de methods van pandas.io.sql om vervolgens queries uit te voeren. "
   ]
  },
  {
   "cell_type": "code",
   "execution_count": null,
   "metadata": {},
   "outputs": [],
   "source": [
    "import psycopg2 as pc\n",
    "import pandas as pd"
   ]
  },
  {
   "cell_type": "code",
   "execution_count": null,
   "metadata": {},
   "outputs": [],
   "source": [
    "#maak connectie met de database. Omdat de database op dezelfde server staat als deze notebooks, kunnen we gebruik maken van 'localhost'. Het wachtwoord is in dit geval - heel veilig- \"q\".\n",
    "conn = pc.connect(host = \"server.waar.postgres.draait\", database=\"dvdrental\", user = \"postgres\", password=\"je-wachtwoord\")"
   ]
  },
  {
   "cell_type": "markdown",
   "metadata": {},
   "source": [
    "Als we de connectie hebben, kunnen we met de read_sql method van pandas.io.sql een query uitvoeren, bijvoorbeeld: (Let op dat dit nu niet werkt, omdat we geen connectie met een database hebben). "
   ]
  },
  {
   "cell_type": "code",
   "execution_count": null,
   "metadata": {},
   "outputs": [],
   "source": [
    "film =pd.io.sql.read_sql('SELECT * FROM film', conn)"
   ]
  },
  {
   "cell_type": "markdown",
   "metadata": {},
   "source": [
    "Als je dit wilt proberen kun je dit doen door de code lokaal (dus op je eigen laptop) te runnen. Kopieer daarvoor onderstaande code naar een .py bestand waarbij je jouw eigen gekozen wachtwoord voor postgres invult. Installeer pandas en pscopg2 met pip, zorg dat postgres draait en dan kun je het script runnen."
   ]
  },
  {
   "cell_type": "code",
   "execution_count": null,
   "metadata": {},
   "outputs": [],
   "source": [
    "import psycopg2 as pc\n",
    "import pandas as pd\n",
    "conn = pc.connect(host = \"localhost\", database=\"dvdrental\", user = \"postgres\", password=\"je-wachtwoord\")\n",
    "film =pd.io.sql.read_sql('SELECT * FROM film', conn)\n",
    "print(film.head())"
   ]
  }
 ],
 "metadata": {
  "kernelspec": {
   "display_name": "Python 3",
   "language": "python",
   "name": "python3"
  },
  "language_info": {
   "codemirror_mode": {
    "name": "ipython",
    "version": 3
   },
   "file_extension": ".py",
   "mimetype": "text/x-python",
   "name": "python",
   "nbconvert_exporter": "python",
   "pygments_lexer": "ipython3",
   "version": "3.7.7"
  }
 },
 "nbformat": 4,
 "nbformat_minor": 4
}
