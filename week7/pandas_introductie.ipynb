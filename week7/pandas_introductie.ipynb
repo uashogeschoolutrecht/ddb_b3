{
 "cells": [
  {
   "cell_type": "markdown",
   "metadata": {},
   "source": [
    "# Introductie pandas\n",
    "We gaan nu leren werken met pandas, een van de meest gebruikte Pyhton libraries voor data analyse en data science. Deze library voorziet ons van allerlei functionaliteit om te werken met spreadsheets. Als een data scientist ontkom je er niet aan om met pandas te werken. Dit is zo'n uitgebreide library dat we nooit alles kunnen behandelen, maar om een beeld te krijgen van wat mogelijk is in pandas volgen we de 'getting started' tutorials uit de pandas documentatie (https://pandas.pydata.org/docs/getting_started/intro_tutorials/index.html). In dit notebook zul je steeds gevraagd worden een tutorial door te nemen en vervolgens een aantal oefenopdrachten te maken. De datasets die in de tutorials gebruikt worden zijn te vinden in de Shared folder. Ik raad je aan om de voorbeelden uit de tutorials zelf uit te typen en te runnen.\n",
    "\n",
    "Voor de opdrachten bij tutorial 2 t/m 5 en 7 gebruiken we de dataset vgsales.csv, gevonden op kaggle (https://www.kaggle.com/gregorut/videogamesales). Voor opdracht 6 gebruiken we de dataset ..... Ook deze zijn te vinden in de Shared folder. Je moet ze wel zelf nog inlezen.\n"
   ]
  },
  {
   "cell_type": "markdown",
   "metadata": {},
   "source": [
    "## Opdrachten bij tutorial 1\n",
    "Creeër een DataFrame (met behulp van pd.DataFrame(...) ) waarbij het dataframe overeenkomt met onderstaande tabel\n",
    "\n",
    "Let op dat je pandas eerst moet importeren voordat je aan de slag kunt. "
   ]
  },
  {
   "cell_type": "markdown",
   "metadata": {},
   "source": [
    "| Studentnummer |Opdracht | Tentamen | Geslaagd |\n",
    "| ------------- |-------- | -------- | -------- |\n",
    "| 302341 | 5,5 | 6,1 | Ja |\n",
    "| 314345 | 6,2 | 4,2 | Nee |\n",
    "| 374232 | 7,1 | 8,3 | Ja |\n",
    "| 352352 | 9,3 | 7,8 | Ja |"
   ]
  },
  {
   "cell_type": "markdown",
   "metadata": {},
   "source": [
    "## Tutorial 2 - Lezen en schrijven van datasets\n",
    "Volg deze tutorial: https://pandas.pydata.org/docs/getting_started/intro_tutorials/02_read_write.html\n",
    "\n",
    "Naast het lezen en schrijven van csv en excel files biedt pandas de mogelijkheid om andere datatypes snel in te lezen, bijvoorbeeld json. Om makkelijk een overzicht te krijgen van mogelijke *read* functices, maak je een nieuwe cel en type je pd.read_<TAB>, waarbij <TAB> staat voor het indrukken van de tab-toets. Je krijgt dan een lijst met mogelijke opties te zien. Je kunt dit altijd gebruiken om te zien welke functies je aan kunt roepen, of als je niet meer precies weet hoe een functie heet. Of als je gewoon te lui bent om alles uit te typen:) Niks mis mee trouwens, je programmeert er alleen maar sneller door! \n",
    "\n",
    "Als je wilt weten welke parameters je mee kunt geven aan een functie, bijvoorbeel aan pd.read_csv(..) dan type je ?pd.read_csv in een nieuwe cel en run je deze. Je kunt deze informatie ook allemaal in de documentatie vinden: https://pandas.pydata.org/pandas-docs/stable/user_guide/io.html\n",
    "    \n",
    "De dataset die hier gebruikt wordt kun je vinden in de Shared folder. Ik raad je aan deze in te lezen zodat je zelf de code uit de tutorial kunt overnemen en uitvoeren. "
   ]
  },
  {
   "cell_type": "markdown",
   "metadata": {},
   "source": [
    "### Opdrachten bij tutorial 2\n",
    "De dataset vgsales heeft de volgende kolommen:\n",
    "\n",
    "* Rank - Ranking of overall sales\n",
    "* Name - The games name\n",
    "* Platform - Platform of the games release (i.e. PC,PS4, etc.)\n",
    "* Year - Year of the game's release\n",
    "* Genre - Genre of the game\n",
    "* Publisher - Publisher of the game\n",
    "* NA_Sales - Sales in North America (in millions)\n",
    "* EU_Sales - Sales in Europe (in millions)\n",
    "* JP_Sales - Sales in Japan (in millions)\n",
    "* Other_Sales - Sales in the rest of the world (in millions)\n",
    "* Global_Sales - Total worldwide sales.\n",
    "\n",
    "Voer vervolgens de volgende stappen uit:\n",
    "1. Lees de dataset in.\n",
    "2. Bekijk de eerste 5 rijen.\n",
    "3. Bekijk de laatste 10 rijden.\n",
    "4. Bekijk de datatypes van de kolommen.\n",
    "5. Welke kolommen bevatten nulls? (Een null-waarde betekent dat dat datapunt mist)\n",
    "6. Schrijf de dataset weg als excel bestand naar je eigen home folder."
   ]
  },
  {
   "cell_type": "markdown",
   "metadata": {},
   "source": [
    "## Tutorial 3 - Data selectie\n",
    "Volg deze tutorial: https://pandas.pydata.org/docs/getting_started/intro_tutorials/03_subset_data.html"
   ]
  },
  {
   "cell_type": "markdown",
   "metadata": {},
   "source": [
    "### Opdrachten bij tutorial 3\n",
    "1. Selecteer enkel de kolom \"EU_Sales\" uit de dataset vgsales.\n",
    "2. Creeër een nieuw DataFrame met alle rijen waarbij Year niet null is. Maak hierbij gebruik van functie notna()\n",
    "3. Creeër een nieuw DataFrame met alle games waarvan de global sales groter was dan 10 miljoen.\n",
    "4. Bij hoeveel games was de global sales kleiner dan 0.5 miljoen?\n",
    "5. Maak een nieuw DataFrame met de 2e t/m de 6e kolom en de 15e t/m de 30e rij. (Dit heeft in dit voorbeeld geen toepassing, maar is enkel om te oefenen met selectie).\n",
    "6. Creeër een nieuw dataframe met alleen data van 2006.\n",
    "7. Hoeveel spellen van Nintendo zijn er in 2008 uitgekomen in het Genre Racing?"
   ]
  },
  {
   "cell_type": "markdown",
   "metadata": {},
   "source": [
    "## Tutorial 4 - Nieuwe kolommen toevoegen\n",
    "Volg deze tutorial: https://pandas.pydata.org/docs/getting_started/intro_tutorials/05_add_columns.html"
   ]
  },
  {
   "cell_type": "markdown",
   "metadata": {},
   "source": [
    "### Opdrachten bij tutorial 4\n",
    "1. Creeër een nieuwe kolom bij de vgsales dataset genaamd Total_Sales. De waarde in deze kolom is de som van NA_Sales, EU_Sales, JP_Sales, Other_Sales. Kun je controleren of de waarden in deze kolom gelijk zijn aan Global_Sales?\n",
    "2. Creeër een dataset vgsales_renamed waarbij de kolomnamen geen hoofdletters meer bevatten."
   ]
  },
  {
   "cell_type": "markdown",
   "metadata": {},
   "source": [
    "## Tutorial 5 - Beschrijvende statistiek\n",
    "Volg deze tutorial: https://pandas.pydata.org/docs/getting_started/intro_tutorials/05_add_columns.html\n",
    "\n",
    "Er zijn twee functies die hier niet genoemd worden maar die je wel moet kunnen toepassen. Dit zijn .sum() (https://pandas.pydata.org/pandas-docs/stable/reference/api/pandas.DataFrame.sum.html) en .sort_values() (https://pandas.pydata.org/pandas-docs/stable/reference/api/pandas.DataFrame.sort_values.html).  Deze kun je bijvoorbeeld gebruiken om het totaal aantal Sales per genre  te bereken op de vgsales dataset. Zie hieronder. "
   ]
  },
  {
   "cell_type": "code",
   "execution_count": 4,
   "metadata": {},
   "outputs": [],
   "source": [
    "vgsales = pd.read_csv('../data/vgsales.csv')"
   ]
  },
  {
   "cell_type": "code",
   "execution_count": 9,
   "metadata": {},
   "outputs": [
    {
     "data": {
      "text/html": [
       "<div>\n",
       "<style scoped>\n",
       "    .dataframe tbody tr th:only-of-type {\n",
       "        vertical-align: middle;\n",
       "    }\n",
       "\n",
       "    .dataframe tbody tr th {\n",
       "        vertical-align: top;\n",
       "    }\n",
       "\n",
       "    .dataframe thead th {\n",
       "        text-align: right;\n",
       "    }\n",
       "</style>\n",
       "<table border=\"1\" class=\"dataframe\">\n",
       "  <thead>\n",
       "    <tr style=\"text-align: right;\">\n",
       "      <th></th>\n",
       "      <th>Rank</th>\n",
       "      <th>Name</th>\n",
       "      <th>Platform</th>\n",
       "      <th>Year</th>\n",
       "      <th>Genre</th>\n",
       "      <th>Publisher</th>\n",
       "      <th>NA_Sales</th>\n",
       "      <th>EU_Sales</th>\n",
       "      <th>JP_Sales</th>\n",
       "      <th>Other_Sales</th>\n",
       "      <th>Global_Sales</th>\n",
       "    </tr>\n",
       "  </thead>\n",
       "  <tbody>\n",
       "    <tr>\n",
       "      <th>0</th>\n",
       "      <td>1</td>\n",
       "      <td>Wii Sports</td>\n",
       "      <td>Wii</td>\n",
       "      <td>2006.0</td>\n",
       "      <td>Sports</td>\n",
       "      <td>Nintendo</td>\n",
       "      <td>41.49</td>\n",
       "      <td>29.02</td>\n",
       "      <td>3.77</td>\n",
       "      <td>8.46</td>\n",
       "      <td>82.74</td>\n",
       "    </tr>\n",
       "    <tr>\n",
       "      <th>1</th>\n",
       "      <td>2</td>\n",
       "      <td>Super Mario Bros.</td>\n",
       "      <td>NES</td>\n",
       "      <td>1985.0</td>\n",
       "      <td>Platform</td>\n",
       "      <td>Nintendo</td>\n",
       "      <td>29.08</td>\n",
       "      <td>3.58</td>\n",
       "      <td>6.81</td>\n",
       "      <td>0.77</td>\n",
       "      <td>40.24</td>\n",
       "    </tr>\n",
       "    <tr>\n",
       "      <th>2</th>\n",
       "      <td>3</td>\n",
       "      <td>Mario Kart Wii</td>\n",
       "      <td>Wii</td>\n",
       "      <td>2008.0</td>\n",
       "      <td>Racing</td>\n",
       "      <td>Nintendo</td>\n",
       "      <td>15.85</td>\n",
       "      <td>12.88</td>\n",
       "      <td>3.79</td>\n",
       "      <td>3.31</td>\n",
       "      <td>35.82</td>\n",
       "    </tr>\n",
       "    <tr>\n",
       "      <th>3</th>\n",
       "      <td>4</td>\n",
       "      <td>Wii Sports Resort</td>\n",
       "      <td>Wii</td>\n",
       "      <td>2009.0</td>\n",
       "      <td>Sports</td>\n",
       "      <td>Nintendo</td>\n",
       "      <td>15.75</td>\n",
       "      <td>11.01</td>\n",
       "      <td>3.28</td>\n",
       "      <td>2.96</td>\n",
       "      <td>33.00</td>\n",
       "    </tr>\n",
       "    <tr>\n",
       "      <th>4</th>\n",
       "      <td>5</td>\n",
       "      <td>Pokemon Red/Pokemon Blue</td>\n",
       "      <td>GB</td>\n",
       "      <td>1996.0</td>\n",
       "      <td>Role-Playing</td>\n",
       "      <td>Nintendo</td>\n",
       "      <td>11.27</td>\n",
       "      <td>8.89</td>\n",
       "      <td>10.22</td>\n",
       "      <td>1.00</td>\n",
       "      <td>31.37</td>\n",
       "    </tr>\n",
       "  </tbody>\n",
       "</table>\n",
       "</div>"
      ],
      "text/plain": [
       "   Rank                      Name Platform    Year         Genre Publisher  \\\n",
       "0     1                Wii Sports      Wii  2006.0        Sports  Nintendo   \n",
       "1     2         Super Mario Bros.      NES  1985.0      Platform  Nintendo   \n",
       "2     3            Mario Kart Wii      Wii  2008.0        Racing  Nintendo   \n",
       "3     4         Wii Sports Resort      Wii  2009.0        Sports  Nintendo   \n",
       "4     5  Pokemon Red/Pokemon Blue       GB  1996.0  Role-Playing  Nintendo   \n",
       "\n",
       "   NA_Sales  EU_Sales  JP_Sales  Other_Sales  Global_Sales  \n",
       "0     41.49     29.02      3.77         8.46         82.74  \n",
       "1     29.08      3.58      6.81         0.77         40.24  \n",
       "2     15.85     12.88      3.79         3.31         35.82  \n",
       "3     15.75     11.01      3.28         2.96         33.00  \n",
       "4     11.27      8.89     10.22         1.00         31.37  "
      ]
     },
     "execution_count": 9,
     "metadata": {},
     "output_type": "execute_result"
    }
   ],
   "source": [
    "#Bereken totaal van Sales per genre\n",
    "vgsales_total_per_genre = vgsales.groupby(\"Genre\").sum()\n",
    "vgsales.head()"
   ]
  },
  {
   "cell_type": "markdown",
   "metadata": {},
   "source": [
    "Nu willen we deze data graag sorteren op Global_Sales, zodat het bestverkochte genre bovenaan staat. Let op dat sort_values by default oplopend sorteert, als we het bestverkopende genre bovenaan willen hebben moeten we de paramater *ascending=False* meegeven."
   ]
  },
  {
   "cell_type": "code",
   "execution_count": 11,
   "metadata": {},
   "outputs": [
    {
     "data": {
      "text/html": [
       "<div>\n",
       "<style scoped>\n",
       "    .dataframe tbody tr th:only-of-type {\n",
       "        vertical-align: middle;\n",
       "    }\n",
       "\n",
       "    .dataframe tbody tr th {\n",
       "        vertical-align: top;\n",
       "    }\n",
       "\n",
       "    .dataframe thead th {\n",
       "        text-align: right;\n",
       "    }\n",
       "</style>\n",
       "<table border=\"1\" class=\"dataframe\">\n",
       "  <thead>\n",
       "    <tr style=\"text-align: right;\">\n",
       "      <th></th>\n",
       "      <th>Rank</th>\n",
       "      <th>Year</th>\n",
       "      <th>NA_Sales</th>\n",
       "      <th>EU_Sales</th>\n",
       "      <th>JP_Sales</th>\n",
       "      <th>Other_Sales</th>\n",
       "      <th>Global_Sales</th>\n",
       "    </tr>\n",
       "    <tr>\n",
       "      <th>Genre</th>\n",
       "      <th></th>\n",
       "      <th></th>\n",
       "      <th></th>\n",
       "      <th></th>\n",
       "      <th></th>\n",
       "      <th></th>\n",
       "      <th></th>\n",
       "    </tr>\n",
       "  </thead>\n",
       "  <tbody>\n",
       "    <tr>\n",
       "      <th>Action</th>\n",
       "      <td>26441383</td>\n",
       "      <td>6531731.0</td>\n",
       "      <td>877.83</td>\n",
       "      <td>525.00</td>\n",
       "      <td>159.95</td>\n",
       "      <td>187.38</td>\n",
       "      <td>1751.18</td>\n",
       "    </tr>\n",
       "    <tr>\n",
       "      <th>Sports</th>\n",
       "      <td>17419112</td>\n",
       "      <td>4620621.0</td>\n",
       "      <td>683.35</td>\n",
       "      <td>376.85</td>\n",
       "      <td>135.37</td>\n",
       "      <td>134.97</td>\n",
       "      <td>1330.93</td>\n",
       "    </tr>\n",
       "    <tr>\n",
       "      <th>Shooter</th>\n",
       "      <td>9653872</td>\n",
       "      <td>2571588.0</td>\n",
       "      <td>582.60</td>\n",
       "      <td>313.27</td>\n",
       "      <td>38.28</td>\n",
       "      <td>102.69</td>\n",
       "      <td>1037.37</td>\n",
       "    </tr>\n",
       "    <tr>\n",
       "      <th>Role-Playing</th>\n",
       "      <td>12032228</td>\n",
       "      <td>2952379.0</td>\n",
       "      <td>327.28</td>\n",
       "      <td>188.06</td>\n",
       "      <td>352.31</td>\n",
       "      <td>59.61</td>\n",
       "      <td>927.37</td>\n",
       "    </tr>\n",
       "    <tr>\n",
       "      <th>Platform</th>\n",
       "      <td>6137545</td>\n",
       "      <td>1755347.0</td>\n",
       "      <td>447.05</td>\n",
       "      <td>201.63</td>\n",
       "      <td>130.77</td>\n",
       "      <td>51.59</td>\n",
       "      <td>831.37</td>\n",
       "    </tr>\n",
       "    <tr>\n",
       "      <th>Misc</th>\n",
       "      <td>14889052</td>\n",
       "      <td>3432412.0</td>\n",
       "      <td>410.24</td>\n",
       "      <td>215.98</td>\n",
       "      <td>107.76</td>\n",
       "      <td>75.32</td>\n",
       "      <td>809.96</td>\n",
       "    </tr>\n",
       "    <tr>\n",
       "      <th>Racing</th>\n",
       "      <td>9943933</td>\n",
       "      <td>2457934.0</td>\n",
       "      <td>359.42</td>\n",
       "      <td>238.39</td>\n",
       "      <td>56.69</td>\n",
       "      <td>77.27</td>\n",
       "      <td>732.04</td>\n",
       "    </tr>\n",
       "    <tr>\n",
       "      <th>Fighting</th>\n",
       "      <td>6484242</td>\n",
       "      <td>1675871.0</td>\n",
       "      <td>223.59</td>\n",
       "      <td>101.32</td>\n",
       "      <td>87.35</td>\n",
       "      <td>36.68</td>\n",
       "      <td>448.91</td>\n",
       "    </tr>\n",
       "    <tr>\n",
       "      <th>Simulation</th>\n",
       "      <td>7478816</td>\n",
       "      <td>1707589.0</td>\n",
       "      <td>183.31</td>\n",
       "      <td>113.38</td>\n",
       "      <td>63.70</td>\n",
       "      <td>31.52</td>\n",
       "      <td>392.20</td>\n",
       "    </tr>\n",
       "    <tr>\n",
       "      <th>Puzzle</th>\n",
       "      <td>5603136</td>\n",
       "      <td>1144994.0</td>\n",
       "      <td>123.78</td>\n",
       "      <td>50.78</td>\n",
       "      <td>57.31</td>\n",
       "      <td>12.55</td>\n",
       "      <td>244.95</td>\n",
       "    </tr>\n",
       "    <tr>\n",
       "      <th>Adventure</th>\n",
       "      <td>14831165</td>\n",
       "      <td>2562375.0</td>\n",
       "      <td>105.80</td>\n",
       "      <td>64.13</td>\n",
       "      <td>52.07</td>\n",
       "      <td>16.81</td>\n",
       "      <td>239.04</td>\n",
       "    </tr>\n",
       "    <tr>\n",
       "      <th>Strategy</th>\n",
       "      <td>6858962</td>\n",
       "      <td>1345757.0</td>\n",
       "      <td>68.70</td>\n",
       "      <td>45.34</td>\n",
       "      <td>49.46</td>\n",
       "      <td>11.36</td>\n",
       "      <td>175.12</td>\n",
       "    </tr>\n",
       "  </tbody>\n",
       "</table>\n",
       "</div>"
      ],
      "text/plain": [
       "                  Rank       Year  NA_Sales  EU_Sales  JP_Sales  Other_Sales  \\\n",
       "Genre                                                                          \n",
       "Action        26441383  6531731.0    877.83    525.00    159.95       187.38   \n",
       "Sports        17419112  4620621.0    683.35    376.85    135.37       134.97   \n",
       "Shooter        9653872  2571588.0    582.60    313.27     38.28       102.69   \n",
       "Role-Playing  12032228  2952379.0    327.28    188.06    352.31        59.61   \n",
       "Platform       6137545  1755347.0    447.05    201.63    130.77        51.59   \n",
       "Misc          14889052  3432412.0    410.24    215.98    107.76        75.32   \n",
       "Racing         9943933  2457934.0    359.42    238.39     56.69        77.27   \n",
       "Fighting       6484242  1675871.0    223.59    101.32     87.35        36.68   \n",
       "Simulation     7478816  1707589.0    183.31    113.38     63.70        31.52   \n",
       "Puzzle         5603136  1144994.0    123.78     50.78     57.31        12.55   \n",
       "Adventure     14831165  2562375.0    105.80     64.13     52.07        16.81   \n",
       "Strategy       6858962  1345757.0     68.70     45.34     49.46        11.36   \n",
       "\n",
       "              Global_Sales  \n",
       "Genre                       \n",
       "Action             1751.18  \n",
       "Sports             1330.93  \n",
       "Shooter            1037.37  \n",
       "Role-Playing        927.37  \n",
       "Platform            831.37  \n",
       "Misc                809.96  \n",
       "Racing              732.04  \n",
       "Fighting            448.91  \n",
       "Simulation          392.20  \n",
       "Puzzle              244.95  \n",
       "Adventure           239.04  \n",
       "Strategy            175.12  "
      ]
     },
     "execution_count": 11,
     "metadata": {},
     "output_type": "execute_result"
    }
   ],
   "source": [
    "vgsales_total_per_genre.sort_values(by=\"Global_Sales\", ascending=False)"
   ]
  },
  {
   "cell_type": "markdown",
   "metadata": {},
   "source": [
    "### Opdrachten bij tutorial 5\n",
    "1. Wat is het gemiddelde van de kolom EU_Sales?\n",
    "2. Hoeveel bracht een spel van \"Electronic Arts\" gemiddeld op in 2010?\n",
    "3. Voor hoeveel miljoen verkocht Nintendo in het jaar 2006 wereldwijd?\n",
    "4. Wat is het bestverkochte spel (in termen van meest opgeleverde miljoenen) ooit? (In deze dataset)\n",
    "5. Welke genre leverde in 2009 het meeste op in Japan?\n",
    "6. Welk spel uit 1985 leverde het minste op in Europa, maar meer dan niks? Wat leverde dit spel wereldwijd op?\n",
    "7. Welke publisher gaf de meeste spellen uit? "
   ]
  },
  {
   "cell_type": "markdown",
   "metadata": {},
   "source": [
    "## Tutorial 6 - Datasets combineren\n",
    "Volg deze tutorial: https://pandas.pydata.org/docs/getting_started/intro_tutorials/08_combine_dataframes.html\n",
    "\n",
    "Vorige week heb je geleerd hoe je dataset moet joinen met SQL-statements. Nu gaan we zien hoe dit in Python moet. De tabellen uit de dvdrental database staan in de data/dvdrental folder als .csv bestand (met als scheidingsteken een \";\"), dus die kun je makkelijk inlezen met pandas. \n",
    "1. Maak een DataFrame waarin we van alle klanten first_name en last_name zien, en het amount van alle betalingen die ze gedaan hebben. Klanten die nooit een betaling hebben gedaan willen we niet zien.\n",
    "2. Voer een join uit om te zien of er films in de inventory zijn die nooit verhuurd zijn. Welke titels horen daarbij?\n",
    "3. Maak een DataFrame als in opdracht 1, maar dan met first_name, last_name en title van alle films die een klant gehuurd heeft, op alfabetische volgorde van last_name. Zorg dat bij klanten met dezelfde achternaam first_name op alfabetische volgorde staat.\n",
    "4. Maak een DataFrame waarin we per klant kunnen zien wat  hij of zij in totaal uitgegeven heeft aan dvd-huur.\n",
    "5. Maak een DataFrame met twee kolommen. Kolom 1 is de titel van alle films uit de film tabel en kolom 2 is het aantal acteurs in die film."
   ]
  },
  {
   "cell_type": "markdown",
   "metadata": {},
   "source": [
    "### Opdrachten bij tutorial 6"
   ]
  },
  {
   "cell_type": "markdown",
   "metadata": {},
   "source": [
    "## Tutorial 7 - Maken van plots\n",
    "Volg deze tutorial: https://pandas.pydata.org/docs/getting_started/intro_tutorials/04_plotting.html\n",
    "\n",
    "Merk op: Als je uitgebreidere visualisaties wilt maken is de plot method van pandas te beperkt. Zoals je ziet wordt in deze tutorial in het laatste voorbeeld al gebruik gemaakt van de library *matplotlib*, (zie https://matplotlib.org/). Ook wordt *seaborn* (https://seaborn.pydata.org/) hiervoor veel gebruikt. Voor interactieve visualisaties kun je bijvoorbeeld *bokeh* (https://bokeh.org/) of *plotly* (https://plotly.com/) gebruiken. Dit gaat te ver voor deze module, maar voel je vrij om een kijkje te nemen!"
   ]
  },
  {
   "cell_type": "markdown",
   "metadata": {},
   "source": [
    "### Opdrachten bij tutorial 7\n",
    "1. Maak een plot met 4 lijnen, behorende bij \"NA_Sales\", \"EU_Sales\", \"JP_Sales\", \"Other_Sales\". Op de x-as staat het jaar en op de y-as de sales in miljoenen. Zorg dat iedere lijn in een aparte subplot staat. Als je rare zigzag-lijnen krijgt komt dit doordat de data nog niet op jaar gesorteerd is. Dit kun je doen door gebruik te maken van de functie sort_values(). (zie: https://pandas.pydata.org/pandas-docs/stable/reference/api/pandas.DataFrame.sort_values.html)\n",
    "Dit is niet per se een goede plot om informatie uit te halen, maar wat wel opvalt is dat dat in één jaar de sales veel hoger zijn dan in alle andere jaren. In welk jaar is dat? (Extra: kun je achterhalen door welk spel dit komt?)\n",
    "2. Maak een scatterplot om te zien wat de samenhang is tussen NA_Sales en EU_Sales in 2008.\n",
    "3. Maak een barplot met op de x-as \"Genre\" en op de y-as de totale sales per genre in 2010. \n",
    "4. Doe hetzelfde als hierboven maar laat voor ieder sales regio een aparte bar zien."
   ]
  },
  {
   "cell_type": "markdown",
   "metadata": {},
   "source": [
    "# Extra: Connectie maken met de database vanuit Pyhton"
   ]
  },
  {
   "cell_type": "markdown",
   "metadata": {},
   "source": [
    "Voor de opdrachten bij tutorial 6 hebben we de tabellen uit de dvdrental database als .csv bestanden opgeslagen op de server. Een meer profesionele manier om aan deze tabellen te komen is door rechtstreeks vanuit Python de database te query-en. Dit kan alleen als de database op een server draait waar wij toegang toe hebben vanuit dit notebook. Dat is nu helaas niet het geval, maar hieronder staat de code die je kunt gebruiken als dit wel het geval was. In de praktijk staat een database vaak op een speciaal daarvoor ingerichte server.\n",
    "\n",
    "We gebruiken de library psycopg2 om de connectie met de database op te zetten. Je kunt deze installeren met pip. Verder gebruiken we de methods van pandas.io.sql om vervolgens queries uit te voeren. "
   ]
  },
  {
   "cell_type": "code",
   "execution_count": 8,
   "metadata": {},
   "outputs": [],
   "source": [
    "import psycopg2 as pc\n",
    "import pandas as pd"
   ]
  },
  {
   "cell_type": "code",
   "execution_count": 4,
   "metadata": {},
   "outputs": [],
   "source": [
    "#maak connectie met de database. Omdat de database op dezelfde server staat als deze notebooks, kunnen we gebruik maken van 'localhost'. Het wachtwoord is in dit geval - heel veilig- \"q\".\n",
    "conn = pc.connect(host = \"server.waar.postgres.draait\", database=\"dvdrental\", user = \"postgres\", password=\"je-wachtwoord\")"
   ]
  },
  {
   "cell_type": "markdown",
   "metadata": {},
   "source": [
    "Als we de connectie hebben, kunnen we met de read_sql method van pandas.io.sql een query uitvoeren, bijvoorbeeld: (Let op dat dit nu niet werkt, omdat we geen connectie met een database hebben). "
   ]
  },
  {
   "cell_type": "code",
   "execution_count": 9,
   "metadata": {},
   "outputs": [],
   "source": [
    "film =pd.io.sql.read_sql('SELECT * FROM film', conn)"
   ]
  },
  {
   "cell_type": "markdown",
   "metadata": {},
   "source": [
    "Als je dit wilt proberen kun je dit doen door de code lokaal (dus op je eigen laptop) te runnen. Kopieer daarvoor onderstaande code naar een .py bestand waarbij je jouw eigen gekozen wachtwoord voor postgres invult. Installeer pandas en pscopg2 met pip, zorg dat postgres draait en dan kun je het script runnen."
   ]
  },
  {
   "cell_type": "code",
   "execution_count": null,
   "metadata": {},
   "outputs": [],
   "source": [
    "import psycopg2 as pc\n",
    "import pandas as pd\n",
    "conn = pc.connect(host = \"localhost\", database=\"dvdrental\", user = \"postgres\", password=\"je-wachtwoord\")\n",
    "film =pd.io.sql.read_sql('SELECT * FROM film', conn)\n",
    "print(film.head())"
   ]
  }
 ],
 "metadata": {
  "kernelspec": {
   "display_name": "Python 3",
   "language": "python",
   "name": "python3"
  },
  "language_info": {
   "codemirror_mode": {
    "name": "ipython",
    "version": 3
   },
   "file_extension": ".py",
   "mimetype": "text/x-python",
   "name": "python",
   "nbconvert_exporter": "python",
   "pygments_lexer": "ipython3",
   "version": "3.7.7"
  }
 },
 "nbformat": 4,
 "nbformat_minor": 4
}
