{
 "cells": [
  {
   "cell_type": "markdown",
   "metadata": {},
   "source": [
    "# Introductie pandas - Uitwerkingen\n",
    "Hieronder staan mogelijke uitwerkingen voor de opdrachten uit het notebook pandas_introductie. \n",
    "\n",
    "Ga eerst zelf met de opdrachten aan de slag en kijk pas hier als je wilt controleren of je het goed gedaan hebt of als je écht niet verder kunt. Ik raad je aan om altijd eerst te kijken of je online de informatie kunt vinden die je nodig hebt. Dit is hoe datascientisten ook werken. Als je iets wilt programmeren maar de juiste code niet weet, dan ga je kijken of je het online kunt vinden, bijvoorbeeld in de documentatie, op stackoverflow of in een blog. \n",
    "\n",
    "Wil je bijvoorbeeld het gemiddelde van een kolom vinden, google dan (bijvoorbeeld) op 'pandas calcalute mean column'. Zorg dat je altijd Python of pandas (of een ander package waar je mee werkt) in je zoekopdracht zet.\n",
    "\n",
    "Merk op dat er (bijna) altijd meerdere juiste oplossingen zijn. Als je iets anders gedaan hebt dan in dit notebook, maar wel het juiste antwoord hebt gevonden, is het ook goed! En vraag het na tijdens de les bij twijfel!"
   ]
  },
  {
   "cell_type": "markdown",
   "metadata": {},
   "source": [
    "### Opdrachten bij tutorial 1 - Uitwerkingen"
   ]
  },
  {
   "cell_type": "code",
   "execution_count": null,
   "metadata": {},
   "outputs": [],
   "source": [
    "import pandas as pd"
   ]
  },
  {
   "cell_type": "code",
   "execution_count": null,
   "metadata": {},
   "outputs": [],
   "source": [
    "cijfers_df = pd.DataFrame({\"Studentnummer\": [302341, 314345, 374232, 352352], \"Opdracht\": [5.5, 6.2, 7.1, 9.3], \n",
    "                          \"Tentamen\": [6.1, 4.2, 8.3, 7.8], \"Geslaagd\": [\"Ja\", \"Nee\", \"Ja\", \"Ja\"]})"
   ]
  },
  {
   "cell_type": "code",
   "execution_count": null,
   "metadata": {},
   "outputs": [],
   "source": [
    "cijfers_df"
   ]
  },
  {
   "cell_type": "markdown",
   "metadata": {},
   "source": [
    "### Opdrachten bij tutorial 2 - uitwerkingen"
   ]
  },
  {
   "cell_type": "code",
   "execution_count": null,
   "metadata": {},
   "outputs": [],
   "source": [
    "# Opdracht 1\n",
    "vgsales = pd.read_csv('../data/vgsales.csv')"
   ]
  },
  {
   "cell_type": "code",
   "execution_count": null,
   "metadata": {},
   "outputs": [],
   "source": [
    "#Opdracht 2\n",
    "vgsales.head(5)"
   ]
  },
  {
   "cell_type": "code",
   "execution_count": null,
   "metadata": {},
   "outputs": [],
   "source": [
    "#Opdracht 3\n",
    "vgsales.tail(10)"
   ]
  },
  {
   "cell_type": "code",
   "execution_count": null,
   "metadata": {},
   "outputs": [],
   "source": [
    "#Oprdracht 4\n",
    "vgsales.dtypes"
   ]
  },
  {
   "cell_type": "code",
   "execution_count": null,
   "metadata": {},
   "outputs": [],
   "source": [
    "#Opdracht 5\n",
    "vgsales.info()"
   ]
  },
  {
   "cell_type": "markdown",
   "metadata": {},
   "source": [
    "We zien dat Year, Genre en Publisher null-values bevatten."
   ]
  },
  {
   "cell_type": "code",
   "execution_count": null,
   "metadata": {},
   "outputs": [],
   "source": [
    "vgsales.to_excel('/path/to/home/vgsales.xlsx', sheet_name=\"vgsales\", index=False)"
   ]
  },
  {
   "cell_type": "markdown",
   "metadata": {},
   "source": [
    "### Opdrachten bij tutorial 3 - Uitwerkingen"
   ]
  },
  {
   "cell_type": "code",
   "execution_count": null,
   "metadata": {},
   "outputs": [],
   "source": [
    "#Opdracht 1\n",
    "vgsales_EU = vgsales[\"EU_Sales\"]\n",
    "vgsales_EU.head()"
   ]
  },
  {
   "cell_type": "code",
   "execution_count": null,
   "metadata": {},
   "outputs": [],
   "source": [
    "#Opdracht 2\n",
    "vgsales_Year_not_null = vgsales[vgsales[\"Year\"].notna()]\n",
    "vgsales_Year_not_null.head()"
   ]
  },
  {
   "cell_type": "code",
   "execution_count": null,
   "metadata": {},
   "outputs": [],
   "source": [
    "#Opdracht 3\n",
    "vgsales_more_10 = vgsales[vgsales[\"Global_Sales\"] > 10 ]\n",
    "vgsales_more_10.head()"
   ]
  },
  {
   "cell_type": "code",
   "execution_count": null,
   "metadata": {},
   "outputs": [],
   "source": [
    "#Opdracht 4\n",
    "vgsales_less_05 = vgsales[vgsales[\"Global_Sales\"] < 0.5]\n",
    "vgsales_less_05.shape"
   ]
  },
  {
   "cell_type": "markdown",
   "metadata": {},
   "source": [
    "Er zijn dus 12580 games waarvoor de Global Sales lager was dan een half miljoen"
   ]
  },
  {
   "cell_type": "code",
   "execution_count": null,
   "metadata": {},
   "outputs": [],
   "source": [
    "#Oprdracht 5\n",
    "vgsales_selection = vgsales.iloc[14:50, 1:6]\n",
    "vgsales_selection"
   ]
  },
  {
   "cell_type": "code",
   "execution_count": null,
   "metadata": {},
   "outputs": [],
   "source": [
    "#Opdracht 6\n",
    "vgsales_2006 = vgsales[vgsales[\"Year\"]==2006]\n",
    "vgsales_2006.head()"
   ]
  },
  {
   "cell_type": "code",
   "execution_count": null,
   "metadata": {},
   "outputs": [],
   "source": [
    "#Opdracht 7\n",
    "vgsales_Nintendo_2008 = vgsales[(vgsales[\"Publisher\"]==\"Nintendo\") & (vgsales[\"Year\"]==2008) & (vgsales[\"Genre\"]==\"Racing\")]\n",
    "vgsales_Nintendo_2008"
   ]
  },
  {
   "cell_type": "markdown",
   "metadata": {},
   "source": [
    "Dat is er maar 1, alleen Mario Kart Wii"
   ]
  },
  {
   "cell_type": "markdown",
   "metadata": {},
   "source": [
    "### Opdrachten bij tutorial 4 - uitwerkingen"
   ]
  },
  {
   "cell_type": "code",
   "execution_count": null,
   "metadata": {},
   "outputs": [],
   "source": [
    "#Opdracht 1\n",
    "vgsales[\"Total_Sales\"] = vgsales[\"EU_Sales\"] + vgsales[\"NA_Sales\"] + vgsales[\"JP_Sales\"] + vgsales[\"Other_Sales\"]"
   ]
  },
  {
   "cell_type": "code",
   "execution_count": null,
   "metadata": {},
   "outputs": [],
   "source": [
    "#Opdracht 2\n",
    "vgsales_renamed = vgsales.rename(columns=str.lower)"
   ]
  },
  {
   "cell_type": "code",
   "execution_count": null,
   "metadata": {},
   "outputs": [],
   "source": [
    "vgsales_renamed.head()"
   ]
  },
  {
   "cell_type": "markdown",
   "metadata": {},
   "source": [
    "## Opdrachten bij tutorial 5 - Uitwerkingen"
   ]
  },
  {
   "cell_type": "code",
   "execution_count": null,
   "metadata": {},
   "outputs": [],
   "source": [
    "#Opdracht 1 \n",
    "vgsales.describe()"
   ]
  },
  {
   "cell_type": "markdown",
   "metadata": {},
   "source": [
    "We zien dat het gemiddelde van EU_Sales 0.146652 miljoen is"
   ]
  },
  {
   "cell_type": "code",
   "execution_count": null,
   "metadata": {},
   "outputs": [],
   "source": [
    "#Opdracht 2\n",
    "vgsales[(vgsales[\"Publisher\"]==\"Electronic Arts\") & (vgsales[\"Year\"]==2010)].mean()"
   ]
  },
  {
   "cell_type": "markdown",
   "metadata": {},
   "source": [
    "We zien dat het gemiddelde 0.924773 miljoen is."
   ]
  },
  {
   "cell_type": "code",
   "execution_count": null,
   "metadata": {},
   "outputs": [],
   "source": [
    "#Opdracht 3\n",
    "vgsales[(vgsales[\"Year\"]==2016) & (vgsales[\"Publisher\"]==\"Nintendo\")][\"Global_Sales\"].sum()"
   ]
  },
  {
   "cell_type": "markdown",
   "metadata": {},
   "source": [
    "Dus voor 3,47 miljoen."
   ]
  },
  {
   "cell_type": "code",
   "execution_count": null,
   "metadata": {},
   "outputs": [],
   "source": [
    "#Opdracht 4\n",
    "vgsales.sort_values(by=\"Global_Sales\", ascending=False).head()"
   ]
  },
  {
   "cell_type": "markdown",
   "metadata": {},
   "source": [
    "Dat is Wii Sports."
   ]
  },
  {
   "cell_type": "code",
   "execution_count": null,
   "metadata": {},
   "outputs": [],
   "source": [
    "#Opdracht 5\n",
    "vgsales_2009 = vgsales[vgsales[\"Year\"]==2009]\n",
    "vgsales_2009_grouped = vgsales_2009.groupby(\"Genre\").sum()\n",
    "vgsales_2009_grouped[\"JP_Sales\"]"
   ]
  },
  {
   "cell_type": "markdown",
   "metadata": {},
   "source": [
    "Role-Playing leverde het meeste op, 17.07 miljoen. Gevolgd door Action."
   ]
  },
  {
   "cell_type": "code",
   "execution_count": null,
   "metadata": {},
   "outputs": [],
   "source": [
    "#Opdracht 6\n",
    "vgsales_1985 = vgsales[vgsales[\"Year\"]==1985]\n",
    "vgsales_1985_sorted = vgsales_1985.sort_values(by=\"EU_Sales\")\n",
    "vgsales_1985_sorted.head()"
   ]
  },
  {
   "cell_type": "code",
   "execution_count": null,
   "metadata": {},
   "outputs": [],
   "source": [
    "vgsales_1985_EUSales_not_zero = vgsales_1985_sorted[vgsales_1985_sorted[\"EU_Sales\"] > 0].head()"
   ]
  },
  {
   "cell_type": "markdown",
   "metadata": {},
   "source": [
    "We zien een gedeelde laatste plek voor *Ghostbusters* en *Alter Ego*."
   ]
  },
  {
   "cell_type": "code",
   "execution_count": null,
   "metadata": {},
   "outputs": [],
   "source": [
    "vgsales[vgsales[\"Name\"].isin([\"Ghostbusters\", \"Alter Ego\"])]"
   ]
  },
  {
   "cell_type": "markdown",
   "metadata": {},
   "source": [
    "Wereldwijd leverde deze games 0.03 en 0.46 miljoen op. "
   ]
  },
  {
   "cell_type": "code",
   "execution_count": null,
   "metadata": {},
   "outputs": [],
   "source": [
    "#Opdracht 7\n",
    "vgsales.groupby(\"Publisher\")[\"Name\"].count().sort_values(ascending=False)"
   ]
  },
  {
   "cell_type": "markdown",
   "metadata": {},
   "source": [
    "Dat is Electronic Arts"
   ]
  },
  {
   "cell_type": "markdown",
   "metadata": {},
   "source": [
    "## Opdrachten bij tutorial 6 - Uitwerkingen"
   ]
  },
  {
   "cell_type": "markdown",
   "metadata": {},
   "source": [
    "### Opracht 1\n",
    "Maak een DataFrame waarin we van alle klanten first_name en last_name zien, en het amount van alle betalingen die ze gedaan hebben. Klanten die nooit een betaling hebben gedaan willen we niet zien."
   ]
  },
  {
   "cell_type": "code",
   "execution_count": null,
   "metadata": {},
   "outputs": [],
   "source": [
    "import pandas as pd\n",
    "payment = pd.read_csv('../data/dvdrental/payment.csv')\n",
    "customer = pd.read_csv('../data/dvdrental/customer.csv')\n",
    "\n",
    "customer_amount_df = customer.merge(payment, how=\"inner\", on=\"customer_id\")[[\"first_name\", \"last_name\", \"amount\"]]\n",
    "customer_amount_df.head()"
   ]
  },
  {
   "cell_type": "markdown",
   "metadata": {},
   "source": [
    "### Opdracht 2\n",
    "Voer een join uit om te zien of er films in de inventory zijn die nooit verhuurd zijn. Welke titels horen daarbij?"
   ]
  },
  {
   "cell_type": "code",
   "execution_count": null,
   "metadata": {},
   "outputs": [],
   "source": [
    "inventory = pd.read_csv('../data/dvdrental/inventory.csv')\n",
    "rental = pd.read_csv('../data/dvdrental/rental.csv')\n",
    "film = pd.read_csv('../data/dvdrental/film.csv', sep=\";\")\n",
    "\n",
    "inventory_film_join = inventory.merge(rental, on=\"inventory_id\", how = \"left\")\n",
    "nooit_gehuurd = inventory_film_join[inventory_film_join[\"rental_id\"].isna()]\n",
    "nooit_gehuurd"
   ]
  },
  {
   "cell_type": "code",
   "execution_count": null,
   "metadata": {},
   "outputs": [],
   "source": [
    "#Bekijk welke titel bij film_id==1 hoort\n",
    "film[film[\"film_id\"]==1][\"title\"]"
   ]
  },
  {
   "cell_type": "markdown",
   "metadata": {},
   "source": [
    "### Opdracht 3\n",
    "Maak een DataFrame als in opdracht 1, maar dan met first_name, last_name en title van alle films die een klant gehuurd heeft, op alfabetische volgorde van last_name. Zorg dat bij klanten met dezelfde achternaam first_name op alfabetische volgorde staat."
   ]
  },
  {
   "cell_type": "code",
   "execution_count": null,
   "metadata": {},
   "outputs": [],
   "source": [
    "\n",
    "joined_df = customer.merge(rental, how = \"inner\", on=\"customer_id\")\n",
    "joined_df = joined_df.merge(inventory, how = \"left\", on = \"inventory_id\")\n",
    "joined_df = joined_df.merge(film, how = \"left\", on = \"film_id\")\n",
    "\n",
    "name_film_df = joined_df[[\"first_name\", \"last_name\", \"title\"]].sort_values(by=[\"last_name\", \"first_name\"])\n",
    "name_film_df.head(20)"
   ]
  },
  {
   "cell_type": "markdown",
   "metadata": {},
   "source": [
    "### Opdracht 4\n",
    "Maak een DataFrame waarin we per klant kunnen zien wat hij of zij in totaal uitgegeven heeft aan dvd-huur."
   ]
  },
  {
   "cell_type": "code",
   "execution_count": null,
   "metadata": {},
   "outputs": [],
   "source": [
    "customer[\"full_name\"] = customer[\"first_name\"] + \" \" + customer[\"last_name\"]\n",
    "joined_df = customer.merge(payment, how = \"left\", on = \"customer_id\")[[\"full_name\", \"amount\"]]\n",
    "customer_amount_df = joined_df.groupby(\"full_name\").sum()"
   ]
  },
  {
   "cell_type": "code",
   "execution_count": null,
   "metadata": {},
   "outputs": [],
   "source": [
    "customer_amount_df.head()"
   ]
  },
  {
   "cell_type": "markdown",
   "metadata": {},
   "source": [
    "#Extra: Door de groupby is de index van dit DataFrame de full_name geworden. We kunnen daar weer een 'gewone' kolom van maken door .reset_index() aan te roepen.\n",
    "customer_amount_df.reset_index()"
   ]
  },
  {
   "cell_type": "markdown",
   "metadata": {},
   "source": [
    "### Opdracht 5\n",
    "Maak een DataFrame met twee kolommen. Kolom 1 is de titel van alle films uit de film tabel en kolom 2 is het aantal acteurs in die film."
   ]
  },
  {
   "cell_type": "code",
   "execution_count": null,
   "metadata": {},
   "outputs": [],
   "source": [
    "film_actor = pd.read_csv(\"../data/dvdrental/film_actor.csv\")\n",
    "actor = pd.read_csv(\"../data/dvdrental/actor.csv\")"
   ]
  },
  {
   "cell_type": "code",
   "execution_count": null,
   "metadata": {},
   "outputs": [],
   "source": [
    "joined_df = film.merge(film_actor, how=\"left\", on=\"film_id\")\n",
    "joined_df = joined_df.merge(actor, how=\"left\", on=\"actor_id\")\n",
    "joined_df = joined_df[[\"film_id\", \"actor_id\"]]\n",
    "film_actor_count = joined_df.groupby(\"film_id\").count()"
   ]
  },
  {
   "cell_type": "code",
   "execution_count": null,
   "metadata": {},
   "outputs": [],
   "source": [
    "film_actor_count = film_actor_count.reset_index()\n",
    "film_actor_count.columns = [\"film_id\", \"actor_count\"]\n",
    "film_actor_count.head()"
   ]
  },
  {
   "cell_type": "code",
   "execution_count": null,
   "metadata": {},
   "outputs": [],
   "source": [
    "film_actor_count = film_actor_count.merge(film, how=\"left\", on=\"film_id\")[[\"title\", \"actor_count\"]]\n",
    "film_actor_count.head()"
   ]
  },
  {
   "cell_type": "markdown",
   "metadata": {},
   "source": [
    "## Opdrachten bij tutorial 7 - Uitwerkingen"
   ]
  },
  {
   "cell_type": "markdown",
   "metadata": {},
   "source": [
    "### Opdracht 1\n",
    "Maak een plot met 4 lijnen, behorende bij \"NA_Sales\", \"EU_Sales\", \"JP_Sales\", \"Other_Sales\". Op de x-as staat het jaar en op de y-as de sales in miljoenen. Zorg dat iedere lijn in een aparte subplot staat. Als je rare zigzag-lijnen krijgt komt dit doordat de data nog niet op jaar gesorteerd is. Dit kun je doen door gebruik te maken van de functie sort_values(). (zie: https://pandas.pydata.org/pandas-docs/stable/reference/api/pandas.DataFrame.sort_values.html) Dit is niet per se een goede plot om informatie uit te halen, maar wat wel opvalt is dat dat in één jaar de sales veel hoger zijn dan in alle andere jaren. In welk jaar is dat? (Extra: kun je achterhalen door welk spel dit komt?)"
   ]
  },
  {
   "cell_type": "code",
   "execution_count": null,
   "metadata": {},
   "outputs": [],
   "source": [
    "vgsales = pd.read_csv('../../shared/vgsales.csv')\n",
    "vgsales_sorted = vgsales.sort_values(by=\"Year\")\n",
    "vgsales_sorted[[\"Year\",\"NA_Sales\", \"EU_Sales\", \"JP_Sales\", \"Other_Sales\"]].plot(x=\"Year\", subplots = True)"
   ]
  },
  {
   "cell_type": "markdown",
   "metadata": {},
   "source": [
    "In het jaar 2006 zit bij alle 4 de grafieken een piek. Waarschijnlijk was er één spel dat erg goed verkocht. Laten we eens kijken hoe dit kan."
   ]
  },
  {
   "cell_type": "code",
   "execution_count": null,
   "metadata": {},
   "outputs": [],
   "source": [
    "vgsales[vgsales[\"Year\"]==2006].sort_values(by=\"Global_Sales\", ascending=False).head()"
   ]
  },
  {
   "cell_type": "markdown",
   "metadata": {},
   "source": [
    "Deze piek is veroorzaakt door Nintendo Wii"
   ]
  },
  {
   "cell_type": "markdown",
   "metadata": {},
   "source": [
    "### Opdracht 2\n",
    "Maak een scatterplot om te zien wat de samenhang is tussen NA_Sales en EU_Sales in 2008."
   ]
  },
  {
   "cell_type": "code",
   "execution_count": null,
   "metadata": {},
   "outputs": [],
   "source": [
    "vgsales.plot.scatter(x=\"NA_Sales\", y=\"EU_Sales\", alpha=0.5)"
   ]
  },
  {
   "cell_type": "markdown",
   "metadata": {},
   "source": [
    "### Opdracht 3\n",
    "Maak een barplot met op de x-as \"Genre\" en op de y-as de totale sales per genre in 2010.\n"
   ]
  },
  {
   "cell_type": "code",
   "execution_count": null,
   "metadata": {},
   "outputs": [],
   "source": [
    "vgsales_genre = vgsales.groupby(\"Genre\").sum()\n",
    "vgsales_genre.plot.bar(y=[\"Global_Sales\"])"
   ]
  },
  {
   "cell_type": "markdown",
   "metadata": {},
   "source": [
    "### Opdracht 4\n",
    "Doe hetzelfde als hierboven maar laat voor ieder sales regio een aparte bar zien."
   ]
  },
  {
   "cell_type": "code",
   "execution_count": null,
   "metadata": {},
   "outputs": [],
   "source": [
    "vgsales_genre.plot.bar(y=[\"NA_Sales\", \"EU_Sales\", \"JP_Sales\", \"Other_Sales\"])"
   ]
  }
 ],
 "metadata": {
  "kernelspec": {
   "display_name": "Python 3",
   "language": "python",
   "name": "python3"
  },
  "language_info": {
   "codemirror_mode": {
    "name": "ipython",
    "version": 3
   },
   "file_extension": ".py",
   "mimetype": "text/x-python",
   "name": "python",
   "nbconvert_exporter": "python",
   "pygments_lexer": "ipython3",
   "version": "3.7.7"
  }
 },
 "nbformat": 4,
 "nbformat_minor": 4
}
