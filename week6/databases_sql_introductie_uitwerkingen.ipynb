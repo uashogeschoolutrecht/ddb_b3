{
 "cells": [
  {
   "cell_type": "markdown",
   "metadata": {},
   "source": [
    "# Databases en SQL"
   ]
  },
  {
   "cell_type": "markdown",
   "metadata": {},
   "source": [
    "## Opdracht 1 - Uitwerkingen\n",
    "1. Wat voor relatie betaat er tussen de tabellen:\n",
    "    * film en inventory: one and only one to zero or many\n",
    "    * inventory en rental one and only one to zero or one\n",
    "    * staff en address: zero or many to one and only one\n",
    "2. Leg in woorden uit wat deze relaties betekenen in het kader van deze tabellen.\n",
    "    * film en inventory: Eén film_id hoort bij 0 of meerdere rijen in de inventory_id tabel. Dus iedere film kan zowel 0, 1 als meerdere keren in de inventory voorkomen.\n",
    "      Daarentegen kan iedere inventory_id kan maar bij 1 film_id horen. \n",
    "    * inventory en rental: één inventory_id kan bij 0 of 1 rental_id horen. Logisch, iedere film kan maar één keer tegelijk uitgeleend zijn, of hij is niet uitgeleend (de 0 in de relatie)\n",
    "      Iedere rental_id kan maar bij één inventory_id horen, en hoort ook altijd bij een inventory_id. Als een film uitgeleend is, is daar altijd één (fysieke) dvd aan te koppelen.\n",
    "    * staff en address: een staff_id hoort bij 1 address_id. Iemand van de staff heeft maar 1 adres en moet dit adres opgeven. Geen dakloze werknemers hier dus.\n",
    "      Ieder address_id hoort bij 0, 1 of meerdere staff_id's. Sommige adressen horen bij customers en niet bij staff, of bij helemaal niemand in de database. Vandaar de 0. Twee staff members kunnen huisgenoten zijn, dus dan hoort één adres bij meerdere staff_id's.\n",
    "3. Identificeer de foreign keys in de volgende tabellen:\n",
    "    * customer: store_id voor de store-tabel. address_id voor de address-table.\n",
    "    * film_actor: Dit is een bridge tabel, actor_id en film_id zijn beiden zowel primary als foreignkey.\n",
    "    * payment: customer_id voor de customer tabel, staff_id voor de staff tabel, rental_id voor de rental tabel.\n",
    "4. Welke tabellen zijn bridge tables? Wat is de functie hiervan?\n",
    "    Dit zijn film_actor en film_category. Dit komt omdat er tussen de film en actor tabel (zowel als tussen de film en category tabel) een zero or many to zero or many relatie bestaat. Een film kan meerdere acteurs bevatten, maar een acteur kan ook in meerdere films spelen. Hierdoor is er geen mooie manier om voor één film alle actor_id's in de film tabel op t nemen, of de film_id in de actor tabel. "
   ]
  },
  {
   "cell_type": "markdown",
   "metadata": {},
   "source": [
    "## Opdracht 2 - Uitwerkingen\n",
    "1. Een tabel met title, description en rental_rate gesorteerd op rental_rate, met de duurste film eerst.\n",
    "    * Antwoord: *SELECT title, description, rental_rate FROM film ORDER BY rental_rate DESC;*\n",
    "2. Title en descrition van de laatste 10 rijen in de tabel film.\n",
    "    * Antwoord: *SELECT title, description FROM film LIMIT 10 OFFSET 990;*\n",
    "3. Een tabel met de volledig naam en email uit de staff tabel. Noem de kolom met de volledige naam 'name'.\n",
    "    * Antwoord: *SELECT first_name ||' '|| last_name as name, email FROM staff;*\n",
    "4. Alle films die met rating 'G', gesorteerd op titel.\n",
    "    * Antwoord: *SELECT * FROM film WHERE rating='G' ORDER BY title;*"
   ]
  },
  {
   "cell_type": "markdown",
   "metadata": {},
   "source": [
    "## Opdracht 3 - Uitwerkingen\n",
    "\n",
    "1. Een tabel waarin we van alle klanten first_name en last_name zien, en het amount van alle betalingen die ze gedaan hebben. Klanten die nooit een betaling hebben gedaan willen we niet zien. \n",
    "\n",
    "    * Antwoord: *SELECT c.first_name, c.last_name, p.amount \n",
    "\tFROM customer c\n",
    "INNER JOIN\n",
    "\tpayment p\n",
    "\tON c.customer_id = p.customer_id;*\n",
    "2. Hoeveel rijen heeft deze nieuwe tabel? Kun je dat verklaren uit het aantal rijen van customer en payment?\n",
    "     Deze tabel heeft 14596 rijen. Dit kun je zien in de pop-up die je krijgt als je de query uitvoert, maar ook door de query\n",
    "     *SELECT COUNT c.firstname FROM customer c INNER JOIN payment p ON c.customer_id = p.customer_id;* uit te voeren. \n",
    "     Dit zijn er precies evenveel als de payment tabel, dit is te verklaren door de *zero or many to one and only one* relatie tussen payment en customer. Bij iedere rij in payment hoort namelijk precies één klant. \n",
    "3. Voer een join uit om te zien of er films in de inventory zijn die nooit verhuurd zijn. Welke titels horen daarbij?\n",
    "   * Antwoord: *SELECT i.film_id, r.rental_id\n",
    "\tFROM inventory i\n",
    "LEFT JOIN\n",
    "\trental r\n",
    "\tON i.inventory_id = r.inventory_id\n",
    "\tWHERE r.rental_id is NULL;\n",
    "    We zien dat er film_id = 1 bij hoort, dus kijken we in de film tabel welke titel erbij hoort met de volgende query:\n",
    "    SELECT title FROM film WHERE film_id=1;\n",
    "    De bijbehorende titel is Academy Dinosaur.\n",
    "4. Maak een tabel als in opdracht 1, maar dan met first_name, last_name en title van alle films die een klant gehuurd heeft, op alfabetische volgorde van last_name. Zorg dat bij klanten met dezelfde achternaam first_name op alfabetische volgorde staat.\n",
    "    * Antwoord: *SELECT c.first_name, c.last_name, f.title FROM customer c\n",
    "\tINNER JOIN\n",
    "\t\trental r \n",
    "\t\tUSING(customer_id)\n",
    "\tLEFT JOIN\n",
    "\t\tinventory i\n",
    "\t\tUSING(inventory_id)\n",
    "\tLEFT JOIN\n",
    "\t\tfilm f\n",
    "\t\tUSING(film_id)\n",
    "\t\tORDER BY last_name, first_name;*\n",
    "5. Als je een *inner_join* uitvoert op *payment* en *customer*. Wat kun je dan zeggen over het aantal rijen in de nieuwe tabel? Zijn dit er altijd meer, minder of evenveel als in *payment* en *customer*? Wat heeft dit met het type relatie te maken? \n",
    "Omdat er een *one or many to one and only one* relatie tussen payment en customer bestaat, weten we dat bij één payment_id precies één customer_id hoor. Hierdoor zal een inner_join altijd een tabel opleveren met evenveel rijen de payment tabel.\n",
    "6. Voer nu een left_join uit op inventory en film, en vervolgens een right_join. Wat gebeurt er met het aantal rijen in de join-table? Verklaar dit aan de hand van het type relatie tussen de tabellen.\n",
    "    Er bestaat een *zero or many to one and only one* relatie tussen inventory en film. Bij een left_join blijven sowieso alle rijen uit inventory behouden en die worden via film_id gekoppeld aan een film. Omdat er bij iedere inventory_id (dus iedere rij in de inventory tabel) precies één film hoort, zal het aantal rijen in de join-table gelijk zijn aan die van inventory.\n",
    "    Bij een right_join worden alle rijen uit de film tabel behouden. Bij iedere film_id hoort 0, 1 of meerdere inventory_id's. Het aantal rijen zal dus gelijk blijven aan het aantal rijen in de film tabel als alle film_id's maar 0 of 1 keer voorkomen in de inventory tabel. Maar komt hij vaker voor, dan zal voor iedere extra keer dat een film in inventory voorkomt, een extra rij in de join-table komen. Het is dus altijd gelijk aan of meer dan het aantal rijen in film. "
   ]
  }
 ],
 "metadata": {
  "kernelspec": {
   "display_name": "Python 3",
   "language": "python",
   "name": "python3"
  },
  "language_info": {
   "codemirror_mode": {
    "name": "ipython",
    "version": 3
   },
   "file_extension": ".py",
   "mimetype": "text/x-python",
   "name": "python",
   "nbconvert_exporter": "python",
   "pygments_lexer": "ipython3",
   "version": "3.7.7"
  }
 },
 "nbformat": 4,
 "nbformat_minor": 4
}
