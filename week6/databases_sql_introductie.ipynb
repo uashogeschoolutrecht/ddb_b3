{
 "cells": [
  {
   "cell_type": "markdown",
   "metadata": {},
   "source": [
    "# Databases en SQL"
   ]
  },
  {
   "attachments": {
    "4280287e-d09d-42a2-ada9-27acf2521058.png": {
     "image/png": "[encoded data removed]"
    }
   },
   "cell_type": "markdown",
   "metadata": {},
   "source": [
    "We gaan er in dit notebook vanuit dat je de video's over ERD's op Canvas hebt bekeken, dat je PostgresQL geïnstalleerd hebt  en dat je de dvdrental dabase succesvol hebt ingeladen.\n",
    "Om te controleren of je controleren start je pgAdmin, dit opent vanzelf een nieuw tabblad in je browser. Vervolgens op je de QueryTool (klik op ![image.png](attachment:4280287e-d09d-42a2-ada9-27acf2521058.png) ) en type \"SELECT * FROM film LIMIT 5;\" en klik op Execute (play-icoontje). Als je nu onder Data Output 5 rijen met data over films hebt staan, weet je dat het werkt en dat je met dit notebook aan de slag kunt!"
   ]
  },
  {
   "cell_type": "markdown",
   "metadata": {},
   "source": [
    "## Opdracht 1\n",
    "Bekijk het ERD diagram dat hoort bij dvdrentals (zie dvdrentals.pdf).\n",
    "1. Wat voor relatie betaat er tussen de tabellen:\n",
    "    * film en inventory\n",
    "    * inventory en rental\n",
    "    * staff en address\n",
    "2. Leg in woorden uit wat deze relaties betekenen in het kader van deze tabellen.\n",
    "3. Identificeer de foreign keys in de volgende tabellen:\n",
    "    * customer\n",
    "    * film_actor\n",
    "    * payment\n",
    "4. Welke tabellen zijn bridge tables? Wat is de functie hiervan?"
   ]
  },
  {
   "cell_type": "markdown",
   "metadata": {},
   "source": [
    "## Opdracht 2\n",
    "Volg de volgende tutorials. Type alle voorbeeld queries zelf uit in pgAdmin, dit helpt je om ze te onthouden en de syntax onder de knie te krijgen. Maak kleine veranderingen in de statements om te zien wat het effect ervan is.\n",
    "* https://www.postgresqltutorial.com/postgresql-select/\n",
    "* https://www.postgresqltutorial.com/postgresql-column-alias/\n",
    "* https://www.postgresqltutorial.com/postgresql-order-by/\n",
    "* https://www.postgresqltutorial.com/postgresql-where/\n",
    "* https://www.postgresqltutorial.com/postgresql-limit/\n",
    "\n",
    "Schrijf SQL statements om de volgende data te zien:\n",
    "1. Een tabel met title, description en rental_rate gesorteerd op rental_rate, met de duurste film eerst.\n",
    "2. Title en descrition van de laatste 10 rijen in de tabel film.\n",
    "3. Een tabel met de volledig naam en email uit de staff tabel. Noem de kolom met de volledige naam 'name'.\n",
    "4. Alle films die met rating 'G', gesorteerd op titel."
   ]
  },
  {
   "cell_type": "markdown",
   "metadata": {},
   "source": [
    "## Opdracht 3\n",
    "Volg de volgende tutorials.\n",
    "* https://www.postgresqltutorial.com/postgresql-joins/\n",
    "* https://www.postgresqltutorial.com/postgresql-alias/\n",
    "* https://www.postgresqltutorial.com/postgresql-inner-join/\n",
    "* https://www.postgresqltutorial.com/postgresql-left-join/\n",
    "* https://www.postgresqltutorial.com/postgresql-right-join/\n",
    "* https://www.postgresqltutorial.com/postgresql-self-join/\n",
    "* https://www.postgresqltutorial.com/postgresql-full-outer-join/\n",
    "\n",
    "Maak de volgende opdrachten:\n",
    "1. Maak een tabel waarin we van alle klanten first_name en last_name zien, en het amount van alle betalingen die ze gedaan hebben. Klanten die nooit een betaling hebben gedaan willen we niet zien. Zie een voorbeeld van de gewenste output in onderstaande tabel:"
   ]
  },
  {
   "cell_type": "markdown",
   "metadata": {},
   "source": [
    "| first_name |last_name | amount | \n",
    "| ---------- |--------- | ------ | \n",
    "| Peter  | Menard|7.99 |\n",
    "| Peter | Menard | 1.99 |\n",
    "| Peter | Menard | 7.99 | \n",
    "| Harold | Martino | 5.99 |\n",
    "| Harold | Martino | 2.99 |"
   ]
  },
  {
   "cell_type": "markdown",
   "metadata": {},
   "source": [
    "2. Hoeveel rijen heeft deze nieuwe tabel? Kun je dat verklaren uit het aantal rijen van customer en payment?\n",
    "3. Voer een join uit om te zien of er films in de inventory zijn die nooit verhuurd zijn. Welke titels horen daarbij?\n",
    "4. Maak een tabel als in opdracht 1, maar dan met first_name, last_name en title van alle films die een klant gehuurd heeft, op alfabetische volgorde van last_name. Zorg dat bij klanten met dezelfde achternaam first_name op alfabetische volgorde staat.\n",
    "5. Als je een *inner_join* uitvoert op *payment* en *customer*. Wat kun je dan zeggen over het aantal rijen in de nieuwe tabel? Zijn dit er altijd meer, minder of evenveel als in *payment* en *customer*? Wat heeft dit met het type relatie te maken? \n",
    "6. Voer nu een left_join uit op inventory en film, en vervolgens een right_join. Wat gebeurt er met het aantal rijen in de join-table? Verklaar dit aan de hand van het type relatie tussen de tabellen."
   ]
  }
 ],
 "metadata": {
  "kernelspec": {
   "display_name": "Python 3",
   "language": "python",
   "name": "python3"
  },
  "language_info": {
   "codemirror_mode": {
    "name": "ipython",
    "version": 3
   },
   "file_extension": ".py",
   "mimetype": "text/x-python",
   "name": "python",
   "nbconvert_exporter": "python",
   "pygments_lexer": "ipython3",
   "version": "3.7.7"
  }
 },
 "nbformat": 4,
 "nbformat_minor": 4
}
